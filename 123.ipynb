{
 "cells": [
  {
   "cell_type": "code",
   "execution_count": 1,
   "metadata": {},
   "outputs": [
    {
     "name": "stdout",
     "output_type": "stream",
     "text": [
      "Defaulting to user installation because normal site-packages is not writeable\n",
      "Requirement already satisfied: qrcode[pil] in /Users/user/Library/Python/3.8/lib/python/site-packages (7.3.1)\n",
      "Collecting pillow; extra == \"pil\"\n",
      "  Downloading Pillow-9.3.0.tar.gz (50.4 MB)\n",
      "\u001b[K     |████████████████████████████████| 50.4 MB 8.2 MB/s eta 0:00:01\n",
      "\u001b[?25hBuilding wheels for collected packages: pillow\n",
      "  Building wheel for pillow (setup.py) ... \u001b[?25ldone\n",
      "\u001b[?25h  Created wheel for pillow: filename=Pillow-9.3.0-cp38-cp38-macosx_10_14_arm64.whl size=851478 sha256=831c288cc2540f84d124553c26f0bd657d50242faa32d29daf7bc3e184948672\n",
      "  Stored in directory: /Users/user/Library/Caches/pip/wheels/83/ac/12/6c0a34e6a10f4264162f897635ae41d93f93abca5aa405673e\n",
      "Successfully built pillow\n",
      "Installing collected packages: pillow\n",
      "Successfully installed pillow-9.3.0\n",
      "\u001b[33mWARNING: You are using pip version 20.2.3; however, version 22.3.1 is available.\n",
      "You should consider upgrading via the '/Library/Developer/CommandLineTools/usr/bin/python3 -m pip install --upgrade pip' command.\u001b[0m\n",
      "Note: you may need to restart the kernel to use updated packages.\n"
     ]
    }
   ],
   "source": [
    "pip install \"qrcode[pil]\""
   ]
  },
  {
   "cell_type": "code",
   "execution_count": null,
   "metadata": {},
   "outputs": [],
   "source": []
  }
 ],
 "metadata": {
  "kernelspec": {
   "display_name": "Python 3",
   "language": "python",
   "name": "python3"
  },
  "language_info": {
   "codemirror_mode": {
    "name": "ipython",
    "version": 3
   },
   "file_extension": ".py",
   "mimetype": "text/x-python",
   "name": "python",
   "nbconvert_exporter": "python",
   "pygments_lexer": "ipython3",
   "version": "3.8.9"
  },
  "orig_nbformat": 4,
  "vscode": {
   "interpreter": {
    "hash": "31f2aee4e71d21fbe5cf8b01ff0e069b9275f58929596ceb00d14d90e3e16cd6"
   }
  }
 },
 "nbformat": 4,
 "nbformat_minor": 2
}
